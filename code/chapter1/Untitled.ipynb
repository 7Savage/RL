{
 "cells": [
  {
   "cell_type": "code",
   "execution_count": null,
   "id": "6f3c735d",
   "metadata": {},
   "outputs": [],
   "source": [
    "import gym"
   ]
  },
  {
   "cell_type": "code",
   "execution_count": null,
   "id": "e3aa190e",
   "metadata": {},
   "outputs": [],
   "source": [
    "env = gym.make('MountainCar-v0')\n",
    "print(\" 观测空间 = {}\".format(env.observation_space))\n",
    "print(\" 动作空间 = {}\".format(env.action_space))\n",
    "print(\" 观测范围 = {} ~ {}\".format(env.observation_space.low, env.observation_space.high)\n",
    "print(\" 动作数 = {}\".format(env.action_space.n))"
   ]
  },
  {
   "cell_type": "code",
   "execution_count": null,
   "id": "319a51e2",
   "metadata": {},
   "outputs": [],
   "source": []
  }
 ],
 "metadata": {
  "kernelspec": {
   "display_name": "Python 3 (ipykernel)",
   "language": "python",
   "name": "python3"
  }
 },
 "nbformat": 4,
 "nbformat_minor": 5
}
